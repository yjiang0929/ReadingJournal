{
 "cells": [
  {
   "cell_type": "markdown",
   "metadata": {},
   "source": [
    "# Day 10 Reading Journal\n",
    "\n",
    "This journal includes several required exercises, but it is meant to encourage active reading more generally.  You should use the journal to take detailed notes, catalog questions, and explore the content from Think Python deeply.\n",
    "\n",
    "Reading: Review Think Python Chapters 15-17\n",
    "\n",
    "**Due: Thursday, February 23 at 12 noon**\n",
    "\n"
   ]
  },
  {
   "cell_type": "markdown",
   "metadata": {},
   "source": [
    "## [Chapter 15](http://www.greenteapress.com/thinkpython2/html/thinkpython2016.html), [Chapter 16](http://www.greenteapress.com/thinkpython2/html/thinkpython2017.html), [Chapter 17](http://www.greenteapress.com/thinkpython2/html/thinkpython2018.html)\n",
    "\n",
    "\n",
    "By the end of chapter 17, we have all the tools we need to create our own user-defined types known as classes. In this reading journal, we're asking you to review and solidify your understanding of this material so we can build on it for the rest of the course. \n",
    "\n",
    "If you didn't get a chance to fully complete the Day 9 reading journal, you may want to do so now."
   ]
  },
  {
   "cell_type": "markdown",
   "metadata": {
    "problem": "Terminology"
   },
   "source": [
    "### Terminology\n",
    "\n",
    "You should be familiar with the following list of terms and concepts. If any of them are unclear to you, re-read, ask, write a definition in your own words, and try an example if appropriate.\n",
    "\n",
    " - class\n",
    " - object\n",
    " - instance\n",
    " - attribute\n",
    " - method\n",
    " - shallow vs deep copying\n",
    " - pure functions vs modifiers\n",
    " - initializing object instances\n",
    " "
   ]
  },
  {
   "cell_type": "markdown",
   "metadata": {
    "is_question": true,
    "problem": "Exercise 1"
   },
   "source": [
    "### Exercise\n",
    "\n",
    "We're going to take the first steps toward writing a calendar application. To keep things simple, we'll restrict ourselves to a single day for now. Write an `Event` class with the following attributes:\n",
    "\n",
    " - `name`  : Title for the `Event`\n",
    " - `start` : `Time` object representing the start time for the `Event`\n",
    " - `end`   : `Time` object representing the end time for the `Event`\n",
    "\n",
    "You can also augment your `Event` class with additional attributes, such as location and attendees.\n",
    "\n",
    "Write `__init__` and `__str__` methods for your `Event` class."
   ]
  },
  {
   "cell_type": "code",
   "execution_count": 12,
   "metadata": {
    "collapsed": false,
    "solution": "Exercise 1"
   },
   "outputs": [
    {
     "name": "stdout",
     "output_type": "stream",
     "text": [
      "Software Design runs from 13:30:00 to 15:10:00\n"
     ]
    }
   ],
   "source": [
    "class Time:\n",
    "    def __init__(self,hour,minute,second):\n",
    "        self.hour = hour\n",
    "        self.minute = minute\n",
    "        self.second = second\n",
    "        \n",
    "    def __str__(self):\n",
    "        return '%.2d:%.2d:%.2d'%(self.hour,self.minute,self.second)\n",
    "\n",
    "class Event:\n",
    "    def __init__(self,name,start,end):\n",
    "        self.name = name\n",
    "        self.start =start\n",
    "        self.end = end\n",
    "        \n",
    "    def __str__(self):\n",
    "        return '%s runs from %s to %s' %(self.name,self.start,self.end)\n",
    "    \n",
    "start = Time(13,30,0)\n",
    "end = Time(15,10,0)\n",
    "softdes = Event('Software Design',start,end)\n",
    "print(softdes)"
   ]
  },
  {
   "cell_type": "markdown",
   "metadata": {
    "is_question": true,
    "problem": "Exercise 2"
   },
   "source": [
    "### Exercise\n",
    "\n",
    "Write a `duration` method that returns the duration of the `Event` in minutes."
   ]
  },
  {
   "cell_type": "code",
   "execution_count": 16,
   "metadata": {
    "collapsed": false,
    "solution": "Exercise 2"
   },
   "outputs": [
    {
     "name": "stdout",
     "output_type": "stream",
     "text": [
      "100.0\n"
     ]
    }
   ],
   "source": [
    "class Time:\n",
    "    def __init__(self,hour,minute,second):\n",
    "        self.hour = hour\n",
    "        self.minute = minute\n",
    "        self.second = second\n",
    "        \n",
    "    def __str__(self):\n",
    "        return '%.2d:%.2d:%.2d'%(self.hour,self.minute,self.second)\n",
    "    \n",
    "    def __sub__(self,other):\n",
    "        m1 = self.hour*60 + self.minute + self.second / 60\n",
    "        m2 = other.hour*60 + other.minute + other.second /60\n",
    "        return m1 - m2\n",
    "    \n",
    "class Event:\n",
    "    def __init__(self,name,start,end):\n",
    "        self.name = name\n",
    "        self.start =start\n",
    "        self.end = end\n",
    "        \n",
    "    def __str__(self):\n",
    "        return '%s runs from %s to %s' %(self.name,self.start,self.end)\n",
    "    \n",
    "    def duration(self):\n",
    "        return self.end -self.start\n",
    "    \n",
    "softdes = Event('Software Design',Time(13,30,0),Time(15,10,0))\n",
    "print(softdes.duration())"
   ]
  },
  {
   "cell_type": "markdown",
   "metadata": {
    "is_question": true,
    "problem": "Exercise 3"
   },
   "source": [
    "### Exercise\n",
    "\n",
    "Write an `Agenda` class that contains several `Event`s for the day.\n",
    "\n",
    "**Quick check: ** How should you store `Event`s within your `Agenda` class?\n"
   ]
  },
  {
   "cell_type": "markdown",
   "metadata": {},
   "source": [
    "Save the Events as a list in the Agenda class."
   ]
  },
  {
   "cell_type": "markdown",
   "metadata": {},
   "source": [
    " "
   ]
  },
  {
   "cell_type": "markdown",
   "metadata": {},
   "source": [
    "Your `Agenda` class should include a `print_agenda` method that prints out your schedule for the day, in order.\n",
    "\n",
    "**Optional:** Include a `is_feasible` method that returns `True` if your schedule has no time conflicts. You may want to write additional helper methods for the `Event` class to make this easier."
   ]
  },
  {
   "cell_type": "code",
   "execution_count": 27,
   "metadata": {
    "collapsed": false,
    "solution": "Exercise 3"
   },
   "outputs": [
    {
     "name": "stdout",
     "output_type": "stream",
     "text": [
      "Software Design from 13:30:00 to 15:10:00\n",
      "Linearity 1 from 10:50:00 to 12:30:00\n",
      "Signal and System from 15:20:00 to 17:00:00\n",
      "True\n",
      "Software Design from 13:30:00 to 15:10:00\n",
      "Linearity 1 from 10:50:00 to 12:30:00\n",
      "Signal and System from 15:20:00 to 17:00:00\n",
      "Nappppping from 12:45:00 to 16:00:00\n",
      "False\n"
     ]
    }
   ],
   "source": [
    "class Time:\n",
    "    def __init__(self,hour,minute,second):\n",
    "        self.hour = hour\n",
    "        self.minute = minute\n",
    "        self.second = second\n",
    "        \n",
    "    def __str__(self):\n",
    "        return '%.2d:%.2d:%.2d'%(self.hour,self.minute,self.second)\n",
    "    \n",
    "    def __sub__(self,other):\n",
    "        m1 = self.hour*60 + self.minute + self.second / 60\n",
    "        m2 = other.hour*60 + other.minute + other.second /60\n",
    "        return m1 - m2\n",
    "    \n",
    "class Event:\n",
    "    def __init__(self,name,start,end):\n",
    "        self.name = name\n",
    "        self.start =start\n",
    "        self.end = end\n",
    "        \n",
    "    def __str__(self):\n",
    "        return '%s from %s to %s' %(self.name,self.start,self.end)\n",
    "    \n",
    "    def duration(self):\n",
    "        return self.end -self.start\n",
    "    \n",
    "class Agenda:\n",
    "    def __init__(self,events):\n",
    "        self.events = events\n",
    "        \n",
    "    def print_agenda(self):\n",
    "        for event in self.events:\n",
    "            print(event)\n",
    "            \n",
    "    def is_feasible(self):\n",
    "        for i in range(len(self.events)):\n",
    "            for j in range(i+1,len(self.events)):\n",
    "                if (self.events[i].start-self.events[j].start>0 and self.events[i].start-self.events[j].end<0) or (self.events[i].end-self.events[j].start>0 and self.events[i].end-self.events[j].end<0):\n",
    "                    return False\n",
    "        return True\n",
    "    \n",
    "softdes = Event('Software Design',Time(13,30,0),Time(15,10,0))\n",
    "lin = Event('Linearity 1',Time(10,50,0),Time(12,30,0))\n",
    "sigsys = Event('Signal and System',Time(15,20,0),Time(17,0,0))\n",
    "monday = Agenda([softdes,lin,sigsys])\n",
    "monday.print_agenda()\n",
    "print(monday.is_feasible())\n",
    "nap = Event('Nappppping', Time(12,45,0),Time(16,0,0))\n",
    "new_monday = Agenda([softdes,lin,sigsys,nap])\n",
    "new_monday.print_agenda()\n",
    "print(new_monday.is_feasible())"
   ]
  },
  {
   "cell_type": "markdown",
   "metadata": {
    "is_question": true,
    "problem": "Exercise 4"
   },
   "source": [
    "### Going Beyond (optional)\n",
    "\n",
    "Some ideas for taking your application further:\n",
    " - Add people and/or places to the mix to create a scheduling assistant\n",
    " - Extend support for day-of-week or full date. A word of warning: dealing with dates and times in real applications is difficult due to the huge number of special cases (Perfect example: this reading journal is due on Leap Day). Consider using something like the Python [datetime](https://docs.python.org/3/library/datetime.html) module.\n",
    " - Use pickle or some other persistence strategy to save and load your `Agenda`."
   ]
  },
  {
   "cell_type": "code",
   "execution_count": null,
   "metadata": {
    "collapsed": true,
    "solution": "Exercise 4"
   },
   "outputs": [],
   "source": []
  },
  {
   "cell_type": "markdown",
   "metadata": {
    "poll_response": true,
    "solution": "Time spent"
   },
   "source": [
    " "
   ]
  },
  {
   "cell_type": "markdown",
   "metadata": {
    "is_question": true,
    "problem": "Feedback"
   },
   "source": [
    "## Reading Journal feedback\n",
    "\n",
    "[Please complete this short survey](https://docs.google.com/forms/d/e/1FAIpQLScQekhUrf6YYjpfQiAAbavLIA-IJklv_PX1BWbGgxj7JPolmw/viewform?c=0&w=1)\n",
    "\n",
    "If you have any comments on this Reading Journal, feel free to leave them in the survey linked above. This could include suggestions to improve the exercises, topics you'd like to see covered in class next time, or other feedback.\n",
    "\n",
    "If you have Python questions or run into problems while completing the reading, you should post them to Piazza instead so you can get a quick response before your journal is submitted."
   ]
  },
  {
   "cell_type": "markdown",
   "metadata": {
    "feedback_response": true,
    "solution": "Feedback"
   },
   "source": [
    " "
   ]
  }
 ],
 "metadata": {
  "kernelspec": {
   "display_name": "Python 3",
   "language": "python",
   "name": "python3"
  },
  "language_info": {
   "codemirror_mode": {
    "name": "ipython",
    "version": 3
   },
   "file_extension": ".py",
   "mimetype": "text/x-python",
   "name": "python",
   "nbconvert_exporter": "python",
   "pygments_lexer": "ipython3",
   "version": "3.4.3"
  }
 },
 "nbformat": 4,
 "nbformat_minor": 0
}
